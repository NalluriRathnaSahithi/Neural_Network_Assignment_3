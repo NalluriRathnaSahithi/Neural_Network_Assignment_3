{
 "cells": [
  {
   "cell_type": "code",
   "execution_count": 1,
   "id": "268c579e",
   "metadata": {},
   "outputs": [
    {
     "name": "stdout",
     "output_type": "stream",
     "text": [
      "Do you want to add an employee? (yes/no): yes\n",
      "Enter name: sai ram\n",
      "Enter family: thota\n",
      "Enter salary: 50000\n",
      "Enter department: production\n",
      "Do you want to add an employee? (yes/no): yes\n",
      "Enter name: sahithi\n",
      "Enter family: nalluri\n",
      "Enter salary: 6000\n",
      "Enter department: finance\n",
      "Do you want to add an employee? (yes/no): yes\n",
      "Enter name: jhansi\n",
      "Enter family: veluvolu\n",
      "Enter salary: 100000\n",
      "Enter department: cyber\n",
      "Do you want to add an employee? (yes/no): no\n",
      "Do you want to add a full-time employee? (yes/no): yes\n",
      "Enter name: priya\n",
      "Enter family: naidu\n",
      "Enter salary: 50000\n",
      "Enter department: developer\n",
      "Do you want to add a full-time employee? (yes/no): yes\n",
      "Enter name: sowmya\n",
      "Enter family: kopulla\n",
      "Enter salary: 70000\n",
      "Enter department: data analyst\n",
      "Do you want to add a full-time employee? (yes/no): no\n",
      "Total employees: 5\n",
      "Average Salary: 55200.0\n"
     ]
    }
   ],
   "source": [
    "'''1. Create a class Employee and then do the following\n",
    "• Create a data member to count the number of Employees\n",
    "• Create a constructor to initialize name, family, salary, department\n",
    "• Create a function to average salary\n",
    "• Create a Fulltime Employee class and it should inherit the properties of Employee class\n",
    "• Create the instances of Fulltime Employee class and Employee class and call their member functions. '''\n",
    "\n",
    "\n",
    "class Employee:\n",
    "    employee_count = 0 \n",
    "\n",
    "    def __init__(self, name, family, salary, department):\n",
    "        self.name = name\n",
    "        self.family = family\n",
    "        self.salary = salary\n",
    "        self.department = department\n",
    "        Employee.employee_count += 1\n",
    "\n",
    "    def average_salary(self, total_salary):\n",
    "        return total_salary / Employee.employee_count\n",
    "\n",
    "\n",
    "class FulltimeEmployee(Employee):\n",
    "    def __init__(self, name, family, salary, department):\n",
    "        super().__init__(name, family, salary, department)\n",
    "\n",
    "\n",
    "def input_employee_details():\n",
    "    name = input(\"Enter name: \")\n",
    "    family = input(\"Enter family: \")\n",
    "    salary = float(input(\"Enter salary: \"))\n",
    "    department = input(\"Enter department: \")\n",
    "    return name, family, salary, department\n",
    "\n",
    "\n",
    "employees = []\n",
    "while True:\n",
    "    create_employee = input(\"Do you want to add an employee? (yes/no): \").lower()\n",
    "    if create_employee != 'yes':\n",
    "        break\n",
    "    employees.append(Employee(*input_employee_details()))\n",
    "\n",
    "fulltime_employees = []\n",
    "while True:\n",
    "    create_fulltime_employee = input(\"Do you want to add a full-time employee? (yes/no): \").lower()\n",
    "    if create_fulltime_employee != 'yes':\n",
    "        break\n",
    "    fulltime_employees.append(FulltimeEmployee(*input_employee_details()))\n",
    "\n",
    "\n",
    "total_salary = sum(employee.salary for employee in employees) + sum(fulltime_employee.salary for fulltime_employee in fulltime_employees)\n",
    "average_salary = employees[0].average_salary(total_salary) if employees else 0  \n",
    "print(f\"Total employees: {Employee.employee_count}\")\n",
    "print(f\"Average Salary: {average_salary}\")\n"
   ]
  },
  {
   "cell_type": "code",
   "execution_count": 2,
   "id": "2b2a47e3",
   "metadata": {},
   "outputs": [
    {
     "name": "stdout",
     "output_type": "stream",
     "text": [
      "Original Random Vector:\n",
      "[ 7.72216288  0.         16.7136172  13.71736715  5.5711158   5.3980404\n",
      "  4.36344382 16.97682856  0.          9.2544927   0.         11.49886379\n",
      " 20.26708261 14.00814588 12.73165959 13.01289076  5.70514412 13.53706678\n",
      "  0.          5.18856845]\n",
      "\n",
      "Reshaped Array (4 by 5):\n",
      "[[ 7.72216288  0.         16.7136172  13.71736715  5.5711158 ]\n",
      " [ 5.3980404   4.36344382 16.97682856  0.          9.2544927 ]\n",
      " [ 0.         11.49886379 20.26708261 14.00814588 12.73165959]\n",
      " [13.01289076  5.70514412 13.53706678  0.          5.18856845]]\n"
     ]
    }
   ],
   "source": [
    "'''Numpy\n",
    "Using NumPy create random vector of size 20 having only float in the range 1-20.\n",
    "Then reshape the array to 4 by 5\n",
    "Then replace the max in each row by 0 (axis=1)\n",
    "(you can NOT implement it via for loop) '''\n",
    "\n",
    "import numpy as np\n",
    "\n",
    "random_vector = np.random.uniform(1, 21, 20)\n",
    "\n",
    "reshaped_array = random_vector.reshape(4, 5)\n",
    "\n",
    "reshaped_array[np.arange(4), reshaped_array.argmax(axis=1)] = 0\n",
    "\n",
    "print(\"Original Random Vector:\")\n",
    "print(random_vector)\n",
    "print(\"\\nReshaped Array (4 by 5):\")\n",
    "print(reshaped_array)"
   ]
  },
  {
   "cell_type": "code",
   "execution_count": null,
   "id": "2f59119b",
   "metadata": {},
   "outputs": [],
   "source": []
  }
 ],
 "metadata": {
  "kernelspec": {
   "display_name": "Python 3 (ipykernel)",
   "language": "python",
   "name": "python3"
  },
  "language_info": {
   "codemirror_mode": {
    "name": "ipython",
    "version": 3
   },
   "file_extension": ".py",
   "mimetype": "text/x-python",
   "name": "python",
   "nbconvert_exporter": "python",
   "pygments_lexer": "ipython3",
   "version": "3.11.4"
  }
 },
 "nbformat": 4,
 "nbformat_minor": 5
}
